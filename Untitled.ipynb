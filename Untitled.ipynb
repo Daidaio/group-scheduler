{
 "cells": [
  {
   "cell_type": "code",
   "execution_count": 2,
   "id": "5be1e79b-81d2-4027-bb37-6adb00c221cd",
   "metadata": {},
   "outputs": [
    {
     "name": "stdout",
     "output_type": "stream",
     "text": [
      " * Serving Flask app '__main__'\n",
      " * Debug mode: on\n"
     ]
    },
    {
     "name": "stderr",
     "output_type": "stream",
     "text": [
      "WARNING: This is a development server. Do not use it in a production deployment. Use a production WSGI server instead.\n",
      " * Running on http://127.0.0.1:5000\n",
      "Press CTRL+C to quit\n",
      " * Restarting with watchdog (windowsapi)\n"
     ]
    },
    {
     "ename": "SystemExit",
     "evalue": "1",
     "output_type": "error",
     "traceback": [
      "An exception has occurred, use %tb to see the full traceback.\n",
      "\u001b[1;31mSystemExit\u001b[0m\u001b[1;31m:\u001b[0m 1\n"
     ]
    },
    {
     "name": "stderr",
     "output_type": "stream",
     "text": [
      "D:\\Users\\user\\anaconda3\\Lib\\site-packages\\IPython\\core\\interactiveshell.py:3585: UserWarning: To exit: use 'exit', 'quit', or Ctrl-D.\n",
      "  warn(\"To exit: use 'exit', 'quit', or Ctrl-D.\", stacklevel=1)\n"
     ]
    }
   ],
   "source": [
    "from flask import Flask, render_template, request, session\n",
    "from itertools import combinations\n",
    "import random\n",
    "\n",
    "app = Flask(__name__)\n",
    "app.secret_key = 'your_secret_key_here'  # 用於 session 紀錄使用者輸入\n",
    "\n",
    "@app.route(\"/\", methods=[\"GET\", \"POST\"])\n",
    "def schedule():\n",
    "    if request.method == \"POST\":\n",
    "        # 取得使用者輸入的選手名單（逗號或換行）\n",
    "        raw_input = request.form[\"players\"]\n",
    "        players = [p.strip() for p in raw_input.replace(\"\\n\", \",\").split(\",\") if p.strip()]\n",
    "\n",
    "        if len(players) < 4:\n",
    "            return render_template(\"form.html\", error=\"請至少輸入 4 位選手。\", last_players=raw_input)\n",
    "\n",
    "        # 記錄輸入到 session\n",
    "        session['last_players'] = raw_input\n",
    "\n",
    "        # 所有 4 人組合\n",
    "        all_matches = list(combinations(players, 4))\n",
    "        random.shuffle(all_matches)\n",
    "\n",
    "        # 統計每位選手出場次數\n",
    "        appearance_count = {player: 0 for player in players}\n",
    "        for match in all_matches:\n",
    "            for player in match:\n",
    "                appearance_count[player] += 1\n",
    "\n",
    "        return render_template(\"schedule.html\", matches=all_matches, counts=appearance_count)\n",
    "\n",
    "    # GET：從 session 取出上次的輸入\n",
    "    last_players = session.get('last_players', '')\n",
    "    return render_template(\"form.html\", last_players=last_players)\n",
    "\n",
    "if __name__ == '__main__':\n",
    "    app.run(debug=True)\n"
   ]
  }
 ],
 "metadata": {
  "kernelspec": {
   "display_name": "Python 3 (ipykernel)",
   "language": "python",
   "name": "python3"
  },
  "language_info": {
   "codemirror_mode": {
    "name": "ipython",
    "version": 3
   },
   "file_extension": ".py",
   "mimetype": "text/x-python",
   "name": "python",
   "nbconvert_exporter": "python",
   "pygments_lexer": "ipython3",
   "version": "3.12.7"
  }
 },
 "nbformat": 4,
 "nbformat_minor": 5
}
